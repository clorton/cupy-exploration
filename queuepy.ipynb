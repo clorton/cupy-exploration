{
 "cells": [
  {
   "cell_type": "code",
   "execution_count": 1,
   "id": "f124dc3f-134d-441d-8d9e-3210e87492de",
   "metadata": {},
   "outputs": [
    {
     "data": {
      "text/plain": [
       "array([1298, 1296, 1238, 1273, 1303, 1321, 1249, 1322, 1314, 1251, 1263,\n",
       "       1349, 1362, 1264, 1302, 1248], dtype=uint32)"
      ]
     },
     "execution_count": 1,
     "metadata": {},
     "output_type": "execute_result"
    }
   ],
   "source": [
    "import cupy as cp\n",
    "import numpy as np\n",
    "\n",
    "CUDA = True\n",
    "xp = cp if CUDA else np\n",
    "\n",
    "COUNT = 1_000_000\n",
    "PREVALENCE = xp.float32(0.0625)\n",
    "infected = (xp.random.random(COUNT) < PREVALENCE).astype(xp.uint8)\n",
    "NODES = 768\n",
    "nodeid = xp.random.randint(0, NODES, COUNT).astype(xp.uint16)\n",
    "\n",
    "census = xp.zeros(NODES, dtype=xp.uint32)\n",
    "xp.add.at(census, nodeid, 1)\n",
    "\n",
    "census[0:16]"
   ]
  },
  {
   "cell_type": "code",
   "execution_count": 2,
   "id": "5d7e6131-34b3-42e6-a0ac-d6bfd649dc14",
   "metadata": {},
   "outputs": [
    {
     "name": "stdout",
     "output_type": "stream",
     "text": [
      "1000000\n"
     ]
    }
   ],
   "source": [
    "print(census.sum())"
   ]
  },
  {
   "cell_type": "code",
   "execution_count": null,
   "id": "4c2a0901-e07b-4f5a-b5cd-fdd0691f1815",
   "metadata": {},
   "outputs": [],
   "source": []
  }
 ],
 "metadata": {
  "kernelspec": {
   "display_name": "Python 3 (ipykernel)",
   "language": "python",
   "name": "python3"
  },
  "language_info": {
   "codemirror_mode": {
    "name": "ipython",
    "version": 3
   },
   "file_extension": ".py",
   "mimetype": "text/x-python",
   "name": "python",
   "nbconvert_exporter": "python",
   "pygments_lexer": "ipython3",
   "version": "3.10.12"
  }
 },
 "nbformat": 4,
 "nbformat_minor": 5
}
