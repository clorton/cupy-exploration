{
 "cells": [
  {
   "cell_type": "code",
   "execution_count": 1,
   "metadata": {},
   "outputs": [
    {
     "name": "stdout",
     "output_type": "stream",
     "text": [
      "Using Pandas\n"
     ]
    },
    {
     "name": "stderr",
     "output_type": "stream",
     "text": [
      "100%|██████████| 365/365 [00:15<00:00, 23.04it/s]"
     ]
    },
    {
     "name": "stdout",
     "output_type": "stream",
     "text": [
      "Elapsed time (simulation): 0:00:15.862469\n"
     ]
    },
    {
     "name": "stderr",
     "output_type": "stream",
     "text": [
      "\n"
     ]
    },
    {
     "data": {
      "text/plain": [
       "Ellipsis"
      ]
     },
     "execution_count": 1,
     "metadata": {},
     "output_type": "execute_result"
    }
   ],
   "source": [
    "from datetime import datetime\n",
    "\n",
    "import cudf as cd\n",
    "import cupy as cp\n",
    "import numpy as np\n",
    "import pandas as pd\n",
    "from tqdm import tqdm\n",
    "\n",
    "CUDF = False\n",
    "print(f\"Using {'cuDF' if CUDF else 'Pandas'}\")\n",
    "\n",
    "\n",
    "COUNT = 1_000_000\n",
    "PREVALENCE = 0.10\n",
    "NUM_NODES = 768\n",
    "\n",
    "INC_MEAN = np.float32(7.0)\n",
    "INC_STD = np.float32(1.0)\n",
    "INF_MEAN = np.float32(7.0)\n",
    "INF_STD = np.float32(1.0)\n",
    "R_NAUGHT = 14.0\n",
    "BETA = R_NAUGHT / INF_MEAN\n",
    "\n",
    "t0 = datetime.now(tz=None)  # noqa\n",
    "susceptibility = np.ones(COUNT, dtype=np.uint8)\n",
    "etimer = np.zeros(COUNT, dtype=np.uint8)\n",
    "itimer = np.zeros(COUNT, dtype=np.uint8)\n",
    "nodeid = np.random.randint(0, NUM_NODES, COUNT).astype(np.uint16)\n",
    "\n",
    "infectious = (np.random.random(COUNT) < PREVALENCE).astype(np.uint8)\n",
    "itimer[infectious != 0] = np.round(\n",
    "    np.random.normal(INF_MEAN, INF_STD, infectious.sum())\n",
    ")\n",
    "susceptibility[infectious != 0] = 0\n",
    "t1 = datetime.now(tz=None)  # noqa\n",
    "# print(f\"Elapsed time (initialization): {t1 - t0}\")\n",
    "\n",
    "adata = {\n",
    "    \"nodeid\": nodeid,\n",
    "    \"susceptibility\": susceptibility,\n",
    "    \"etimer\": etimer,\n",
    "    \"itimer\": itimer,\n",
    "    \"draw\": np.zeros(COUNT, dtype=np.float32),\n",
    "    \"force\": np.zeros(COUNT, dtype=np.float32),\n",
    "    \"transmit\": np.zeros(COUNT, dtype=bool),\n",
    "}\n",
    "\n",
    "ndata = {\n",
    "    \"infected\": np.zeros(NUM_NODES, dtype=np.uint32),\n",
    "    \"pops\": np.zeros(NUM_NODES, dtype=np.uint32),\n",
    "    \"forces\": np.zeros(NUM_NODES, dtype=np.float32),\n",
    "}\n",
    "\n",
    "t0 = datetime.now(tz=None)  # noqa\n",
    "if CUDF:\n",
    "    adf = cd.DataFrame(adata)\n",
    "    ndf = cd.DataFrame(ndata)\n",
    "    xp = cp\n",
    "else:\n",
    "    adf = pd.DataFrame(adata)\n",
    "    ndf = pd.DataFrame(ndata)\n",
    "    xp = np\n",
    "t1 = datetime.now(tz=None)  # noqa\n",
    "# print(f\"Elapsed time (dataframe creation): {t1 - t0}\")\n",
    "\n",
    "TICKS = 365\n",
    "\n",
    "t0 = datetime.now(tz=None)  # noqa\n",
    "prevalence = xp.zeros((TICKS + 1, NUM_NODES), dtype=xp.uint32)\n",
    "prevalence[0, :] = xp.asarray((adf.itimer > 0).groupby(adf.nodeid, sort=True).sum())\n",
    "\n",
    "...\n",
    "\n",
    "for tick in tqdm(range(TICKS)):\n",
    "    adf.loc[adf.itimer > 0, \"itimer\"] = adf.itimer[adf.itimer > 0] - 1\n",
    "    count = (adf.etimer == 1).sum()\n",
    "    adf.loc[adf.etimer == 1, \"itimer\"] = xp.round(\n",
    "        xp.random.normal(INF_MEAN, INF_STD, count)\n",
    "    ).astype(xp.uint8)\n",
    "    adf.loc[adf.etimer > 0, \"etimer\"] = adf.etimer[adf.etimer > 0] - 1\n",
    "\n",
    "    infected = xp.asarray((adf.itimer > 0).groupby(adf.nodeid, sort=True).sum())\n",
    "    ndf.infected = infected\n",
    "    # ndf.fillna({\"infected\": 0}, inplace=True)\n",
    "    ndf.pops = adf.groupby(adf.nodeid).size().astype(np.uint32)\n",
    "    ndf.forces = (ndf.infected / ndf.pops).astype(np.float32)\n",
    "    ndf.forces *= BETA\n",
    "\n",
    "    draw = xp.random.random(COUNT).astype(np.float32)\n",
    "    force = xp.asarray(ndf.forces)[xp.asarray(adf.nodeid)]\n",
    "    force *= adf.susceptibility\n",
    "    transmit = draw < force\n",
    "    count = transmit.sum()\n",
    "    adf.loc[transmit, \"etimer\"] = xp.round(\n",
    "        xp.random.normal(INC_MEAN, INC_STD, count)\n",
    "    ).astype(xp.uint8)\n",
    "    adf.loc[transmit, \"susceptibility\"] = xp.uint8(0)\n",
    "\n",
    "    prevalence[tick + 1, :] = infected\n",
    "\n",
    "    ...\n",
    "\n",
    "t1 = datetime.now(tz=None)  # noqa\n",
    "print(f\"Elapsed time (simulation): {t1 - t0}\")\n",
    "\n",
    "...\n",
    "# print(prevalence[:, 0])\n"
   ]
  },
  {
   "cell_type": "code",
   "execution_count": 37,
   "metadata": {},
   "outputs": [
    {
     "data": {
      "image/png": "[encoded data removed]",
      "text/plain": [
       "<Figure size 640x480 with 1 Axes>"
      ]
     },
     "metadata": {},
     "output_type": "display_data"
    }
   ],
   "source": [
    "import matplotlib.pyplot as plt\n",
    "\n",
    "plt.plot((prevalence.get() if CUDF else prevalence)[:, 1])\n",
    "plt.xlabel('Tick')\n",
    "plt.ylabel('Prevalence')\n",
    "plt.title('Prevalence over Time')\n",
    "plt.show()"
   ]
  },
  {
   "cell_type": "code",
   "execution_count": null,
   "metadata": {},
   "outputs": [],
   "source": []
  }
 ],
 "metadata": {
  "kernelspec": {
   "display_name": "Python 3 (ipykernel)",
   "language": "python",
   "name": "python3"
  },
  "language_info": {
   "codemirror_mode": {
    "name": "ipython",
    "version": 3
   },
   "file_extension": ".py",
   "mimetype": "text/x-python",
   "name": "python",
   "nbconvert_exporter": "python",
   "pygments_lexer": "ipython3",
   "version": "3.10.12"
  }
 },
 "nbformat": 4,
 "nbformat_minor": 4
}
